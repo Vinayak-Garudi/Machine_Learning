{
  "nbformat": 4,
  "nbformat_minor": 0,
  "metadata": {
    "colab": {
      "name": "Machine_Learning.ipynb",
      "provenance": [],
      "collapsed_sections": [],
      "authorship_tag": "ABX9TyO+n9Kjog7RgEFd6F8fQTH/",
      "include_colab_link": true
    },
    "kernelspec": {
      "name": "python3",
      "display_name": "Python 3"
    },
    "language_info": {
      "name": "python"
    }
  },
  "cells": [
    {
      "cell_type": "markdown",
      "metadata": {
        "id": "view-in-github",
        "colab_type": "text"
      },
      "source": [
        "<a href=\"https://colab.research.google.com/github/Vinayak-Garudi/Machine_Learning/blob/main/Machine_Learning.ipynb\" target=\"_parent\"><img src=\"https://colab.research.google.com/assets/colab-badge.svg\" alt=\"Open In Colab\"/></a>"
      ]
    },
    {
      "cell_type": "code",
      "source": [
        "# two main things to know in ML\n",
        "# Features and labels\n",
        "# here area, location, furnished or not, etc are the features of the house and the rate of the house is the label "
      ],
      "metadata": {
        "id": "PmsHbdZTalLY"
      },
      "execution_count": null,
      "outputs": []
    },
    {
      "cell_type": "code",
      "source": [
        "# 2 parts of ML:\n",
        "# 1. Supervised learning:-\n",
        "#    the data is given and the model works according to it. Eg:- the above example of prediction of rate of the house, is the plant lily or not, etc\n",
        "# 2. Unsupervised learning:-\n",
        "#     no data is given to the model, it categorizes similar features of objects and then take the similar objects in a group.\n",
        "#     Eg:- group of scholar students, grp of avg students, grp of below avg students,etc"
      ],
      "metadata": {
        "id": "Urpp37h-b6jv"
      },
      "execution_count": null,
      "outputs": []
    },
    {
      "cell_type": "code",
      "source": [
        "# Training and Testing\n",
        "# the model basically train itself from one set of datas and we can test the model with other set of models.\n",
        "# Eg:- we have 100 datas of house which contains the features and labels. Here we can train the model by giving all the features and labels\n",
        "# of the 1st 50 datas and then test the model for the last 50 datas to predict the labels of the last 50 features"
      ],
      "metadata": {
        "id": "7WubE5nudR3U"
      },
      "execution_count": null,
      "outputs": []
    },
    {
      "cell_type": "code",
      "source": [
        "# Simple Linear Regression\n",
        "# it is the method of detting the line which is closest to all the points such that the Mean Squared Error(MSE) is minimum\n",
        "# MSE is the value of the distance between the line of linear regression and the point \n",
        "# lower the value of the MSE or any other error better the will be the model"
      ],
      "metadata": {
        "id": "pBx-06m9eWPd"
      },
      "execution_count": null,
      "outputs": []
    },
    {
      "cell_type": "code",
      "execution_count": null,
      "metadata": {
        "colab": {
          "base_uri": "https://localhost:8080/"
        },
        "id": "p8_TuK_vqpna",
        "outputId": "326f9caf-4743-4a77-be6d-e8625fd854fb"
      },
      "outputs": [
        {
          "output_type": "stream",
          "name": "stdout",
          "text": [
            "Mean squared error is:  1826.5364191345423\n",
            "Weights:  [  -1.16924976 -237.18461486  518.30606657  309.04865826 -763.14121622\n",
            "  458.90999325   80.62441437  174.32183366  721.49712065   79.19307944]\n",
            "Intercept:  153.05827988224112\n"
          ]
        }
      ],
      "source": [
        "# Linear Regression Code in Python\n",
        "\n",
        "from matplotlib import pyplot as plt\n",
        "import numpy as np\n",
        "from sklearn import datasets, linear_model\n",
        "from sklearn.metrics import mean_squared_error\n",
        "\n",
        "diabetes = datasets.load_diabetes()\n",
        "\n",
        "# print(diabetes.keys())\n",
        "# dict_keys(['data', 'target', 'frame', 'DESCR', 'feature_names', 'data_filename', 'target_filename', 'data_module'])\n",
        "\n",
        "# print(diabetes.DESCR)\n",
        "\n",
        "diabetes_X = diabetes.data\n",
        "# print(diabetes_X)\n",
        "\n",
        "diabetes_X_train = diabetes_X[:-30]\n",
        "diabetes_X_test = diabetes_X[-30:]\n",
        "\n",
        "diabetes_Y_train = diabetes.target[:-30]\n",
        "diabetes_Y_test = diabetes.target[-30:]\n",
        "\n",
        "model = linear_model.LinearRegression()\n",
        "\n",
        "model.fit(diabetes_X_train, diabetes_Y_train)     \n",
        "\n",
        "diabetes_Y_predicted = model.predict(diabetes_X_test)\n",
        "\n",
        "print(\"Mean squared error is: \", mean_squared_error(diabetes_Y_test, diabetes_Y_predicted))\n",
        "\n",
        "print(\"Weights: \", model.coef_)\n",
        "print(\"Intercept: \", model.intercept_)\n",
        "\n",
        "# plt.scatter(diabetes_X_test, diabetes_Y_test)\n",
        "# plt.plot(diabetes_X_test, diabetes_Y_predicted)\n",
        "\n",
        "# plt.show()\n",
        "\n",
        "# Mean squared error is:  3035.0601152912686\n",
        "# Weights:  [941.43097333]\n",
        "# Intercept:  153.39713623331698\n",
        "\n"
      ]
    },
    {
      "cell_type": "code",
      "source": [
        "# Loss Functions  and Gradient Descent\n",
        "# loss Functions such as MSE, SSE, Absolute Error\n",
        "# Gradient Descent is equal to x(the value choosen) - Learnning Rate*(dy/dx)\n",
        "# Learning Rate\n",
        "# the rate at which the value will be moving "
      ],
      "metadata": {
        "id": "ZlIzGofLHUPO"
      },
      "execution_count": null,
      "outputs": []
    },
    {
      "cell_type": "code",
      "source": [
        "# Gradient Descent(GD), Mini Batch Gradient Descent(MGD), Stochastic Gradient Descent(SGD):-\n",
        "# In Gd, the model takes all the data at once for eg we have 1 million if data then it will consider to process all the 1 million data to process\n",
        "# here since it is the huge data it will take a lot of time so it is not feasable to use GD here\n",
        "# To overcome the above problem, MGD is here to save your day!!!\n",
        "# MGD basically takes the data in small groups to process at once for example 100 datas to process at once which helps in saving time\n",
        "# Here in SGD, instead of small group of data, it only takes 1 data at a time to process"
      ],
      "metadata": {
        "id": "K4-PeDmrhoqj"
      },
      "execution_count": null,
      "outputs": []
    },
    {
      "cell_type": "code",
      "source": [
        "# Supervised Learning: Classification\n",
        "# difference between classification and regression:-\n",
        "# in regression the values/labels will be multiple like the rate of the house is infinite 35 lakhs, 1 crore, 2 crore, etc\n",
        "# whereas in classification the labels will have like yes or no, on or off, 1 or 0, etc. or also classifies that in a group which one is a dog,\n",
        "# on a table of different objects which one is the pencil, etc\n",
        "# in short the labels in regressors can be unlimited whereas in classification the labels are limited"
      ],
      "metadata": {
        "id": "7YIulkVujSPh"
      },
      "execution_count": null,
      "outputs": []
    },
    {
      "cell_type": "code",
      "source": [
        "# K Nearest Neighbor Classification\n",
        "\n",
        "from sklearn import datasets \n",
        "from sklearn.neighbors import KNeighborsClassifier\n",
        "\n",
        "iris = datasets.load_iris()\n",
        "\n",
        "print(iris.DESCR)     #DESCR means it give the description of the iris flower\n",
        "\n",
        "features = iris.data\n",
        "labels = iris.target\n",
        "print(features[0], labels[0])\n",
        "# [5.1 3.5 1.4 0.2] 0.... here 0 means Setosa, 1 means Versicolour, 2 means Virginica\n",
        "\n",
        "# Training the classifier\n",
        "clf = KNeighborsClassifier()\n",
        "clf.fit(features, labels)\n",
        "\n",
        "preds = clf.predict([[31, 1, 1, 1]])\n",
        "print(preds)       #... the ans comes 2 that meanes it is Virginica"
      ],
      "metadata": {
        "colab": {
          "base_uri": "https://localhost:8080/"
        },
        "id": "N2y7UWnlnI3z",
        "outputId": "aea8e901-acb1-4963-fced-aecded80ec2b"
      },
      "execution_count": null,
      "outputs": [
        {
          "output_type": "stream",
          "name": "stdout",
          "text": [
            ".. _iris_dataset:\n",
            "\n",
            "Iris plants dataset\n",
            "--------------------\n",
            "\n",
            "**Data Set Characteristics:**\n",
            "\n",
            "    :Number of Instances: 150 (50 in each of three classes)\n",
            "    :Number of Attributes: 4 numeric, predictive attributes and the class\n",
            "    :Attribute Information:\n",
            "        - sepal length in cm\n",
            "        - sepal width in cm\n",
            "        - petal length in cm\n",
            "        - petal width in cm\n",
            "        - class:\n",
            "                - Iris-Setosa\n",
            "                - Iris-Versicolour\n",
            "                - Iris-Virginica\n",
            "                \n",
            "    :Summary Statistics:\n",
            "\n",
            "    ============== ==== ==== ======= ===== ====================\n",
            "                    Min  Max   Mean    SD   Class Correlation\n",
            "    ============== ==== ==== ======= ===== ====================\n",
            "    sepal length:   4.3  7.9   5.84   0.83    0.7826\n",
            "    sepal width:    2.0  4.4   3.05   0.43   -0.4194\n",
            "    petal length:   1.0  6.9   3.76   1.76    0.9490  (high!)\n",
            "    petal width:    0.1  2.5   1.20   0.76    0.9565  (high!)\n",
            "    ============== ==== ==== ======= ===== ====================\n",
            "\n",
            "    :Missing Attribute Values: None\n",
            "    :Class Distribution: 33.3% for each of 3 classes.\n",
            "    :Creator: R.A. Fisher\n",
            "    :Donor: Michael Marshall (MARSHALL%PLU@io.arc.nasa.gov)\n",
            "    :Date: July, 1988\n",
            "\n",
            "The famous Iris database, first used by Sir R.A. Fisher. The dataset is taken\n",
            "from Fisher's paper. Note that it's the same as in R, but not as in the UCI\n",
            "Machine Learning Repository, which has two wrong data points.\n",
            "\n",
            "This is perhaps the best known database to be found in the\n",
            "pattern recognition literature.  Fisher's paper is a classic in the field and\n",
            "is referenced frequently to this day.  (See Duda & Hart, for example.)  The\n",
            "data set contains 3 classes of 50 instances each, where each class refers to a\n",
            "type of iris plant.  One class is linearly separable from the other 2; the\n",
            "latter are NOT linearly separable from each other.\n",
            "\n",
            ".. topic:: References\n",
            "\n",
            "   - Fisher, R.A. \"The use of multiple measurements in taxonomic problems\"\n",
            "     Annual Eugenics, 7, Part II, 179-188 (1936); also in \"Contributions to\n",
            "     Mathematical Statistics\" (John Wiley, NY, 1950).\n",
            "   - Duda, R.O., & Hart, P.E. (1973) Pattern Classification and Scene Analysis.\n",
            "     (Q327.D83) John Wiley & Sons.  ISBN 0-471-22361-1.  See page 218.\n",
            "   - Dasarathy, B.V. (1980) \"Nosing Around the Neighborhood: A New System\n",
            "     Structure and Classification Rule for Recognition in Partially Exposed\n",
            "     Environments\".  IEEE Transactions on Pattern Analysis and Machine\n",
            "     Intelligence, Vol. PAMI-2, No. 1, 67-71.\n",
            "   - Gates, G.W. (1972) \"The Reduced Nearest Neighbor Rule\".  IEEE Transactions\n",
            "     on Information Theory, May 1972, 431-433.\n",
            "   - See also: 1988 MLC Proceedings, 54-64.  Cheeseman et al\"s AUTOCLASS II\n",
            "     conceptual clustering system finds 3 classes in the data.\n",
            "   - Many, many more ...\n",
            "[5.1 3.5 1.4 0.2] 0\n",
            "[2]\n"
          ]
        }
      ]
    },
    {
      "cell_type": "code",
      "source": [
        "# About K Nearest Neighbors:-\n",
        "# if we want to find the value of a certain pt on a graph lets take an example of being spam message or not\n",
        "# then we will consider the neighboring pts around it for upto k numbers and then predict whether the pt is a spam msg or not\n",
        "# it higher no of spam pts in the neighbors then it is spam or elese if the neighboring pts are having more not spam pts then is is not spam msgs"
      ],
      "metadata": {
        "id": "C6W_LgUQoIzm"
      },
      "execution_count": null,
      "outputs": []
    },
    {
      "cell_type": "code",
      "source": [
        "# Logistic Regression:-  (it is a classifier not a regressor)\n",
        "# it is a classifier that predicts probabilites of the features and then we classify that the modelis good or not..."
      ],
      "metadata": {
        "id": "ELBrmU56zGLf"
      },
      "execution_count": null,
      "outputs": []
    },
    {
      "cell_type": "code",
      "source": [
        "# Coding Logistic Regression\n",
        "# Train  a logistic regression classifier to predict whether a flower is iris virginica or not\n",
        "# 1 means it is, 0 means it is not\n",
        "from sklearn import datasets\n",
        "from sklearn.linear_model import LogisticRegression\n",
        "import numpy as np\n",
        "import matplotlib.pyplot as plt \n",
        "\n",
        "iris =  datasets.load_iris()\n",
        "\n",
        "# print(list(iris.keys()))\n",
        "# ['data', 'target', 'frame', 'target_names', 'DESCR', 'feature_names', 'filename', 'data_module']\n",
        "# print(iris['DESCR'])    .... the description about iris\n",
        "\n",
        "X = iris[\"data\"][:, 3:]\n",
        "y = (iris[\"target\"]==2).astype(np.int)\n",
        "\n",
        "# Training a logistic Regression Classifier\n",
        "clf = LogisticRegression()\n",
        "clf.fit(X,y)\n",
        "example = clf.predict(([[1.6]]))      #here 1.6 is a random value which is given by me\n",
        "print(example)     # it will the value 0 that means it is not iris virginica\n",
        "example_1 = clf.predict(([[2.6]]))      #here 2.6 is a random value which is given by me\n",
        "print(example_1)     # it will the value 1 that means it is iris virginica\n",
        "\n",
        "# Using matplotlib to plot the visualization\n",
        "X_new = np.linspace(0,3,1000).reshape(-1,1)\n",
        "#  linspace is used to give the the certain number of values between the range of two numbers\n",
        "# like as in above it will gave 1000 numbers between 0 and 3 including 0 an 3\n",
        "# reshape function gives the values in the desired shape\n",
        "# print(X_new)     #if you want to print those values then uncomment this\n",
        "y_prob = clf.predict_proba(X_new)     #predict_proba predictas the probability\n",
        "plt.plot(X_new,y_prob[:,1])\n",
        "plt.show()\n",
        "\n",
        "\n",
        "# print(y)\n",
        "# print(iris[\"data\"])\n",
        "# print(X)"
      ],
      "metadata": {
        "colab": {
          "base_uri": "https://localhost:8080/",
          "height": 300
        },
        "id": "fwxpdLxk_KMy",
        "outputId": "f22601ef-042a-4a49-dcf4-3c71eb7427d5"
      },
      "execution_count": null,
      "outputs": [
        {
          "output_type": "stream",
          "name": "stdout",
          "text": [
            "[0]\n",
            "[1]\n"
          ]
        },
        {
          "output_type": "display_data",
          "data": {
            "image/png": "[encoded data removed]",
            "text/plain": [
              "<Figure size 432x288 with 1 Axes>"
            ]
          },
          "metadata": {
            "needs_background": "light"
          }
        }
      ]
    },
    {
      "cell_type": "code",
      "source": [
        ""
      ],
      "metadata": {
        "id": "BwCkH6NenAC2"
      },
      "execution_count": null,
      "outputs": []
    }
  ]
}